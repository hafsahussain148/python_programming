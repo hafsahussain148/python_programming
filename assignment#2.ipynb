{
 "cells": [
  {
   "cell_type": "code",
   "execution_count": 7,
   "metadata": {},
   "outputs": [
    {
     "name": "stdout",
     "output_type": "stream",
     "text": [
      "enter eng marks7\n",
      "enter maths marks100\n",
      "enter science marks60\n",
      "enter urdu marks60\n",
      "enter computer marks60\n",
      "total marks are: 287.0\n",
      "percentage is: 57.4\n",
      "Grade is C\n"
     ]
    }
   ],
   "source": [
    "eng=float(input(\"enter eng marks\"))\n",
    "maths=float(input(\"enter maths marks\"))\n",
    "sci=float(input(\"enter science marks\"))\n",
    "urdu=float(input(\"enter urdu marks\"))\n",
    "comp=float(input(\"enter computer marks\"))\n",
    "summ=eng+maths+sci+urdu+comp\n",
    "print(\"total marks are:\" , summ)  \n",
    "x=summ/500*100\n",
    "print(\"percentage is:\",x)\n",
    "if x>=80:\n",
    " print(\"Grade is A+\")\n",
    "elif x>=70:\n",
    " print(\"Grade is A\")\n",
    "elif x>=60:\n",
    " print(\"Grade is B\")\n",
    "elif x>=50:\n",
    " print(\"Grade is C\")\n",
    "elif x>=40:\n",
    " print(\"Grade is D\")\n",
    "else:\n",
    "    print(\"Fail\")\n"
   ]
  },
  {
   "cell_type": "code",
   "execution_count": 10,
   "metadata": {},
   "outputs": [
    {
     "name": "stdout",
     "output_type": "stream",
     "text": [
      "enter any number to find out whether it is odd or even456\n",
      "number is even\n"
     ]
    }
   ],
   "source": [
    "num=int(input(\"enter any number to find out whether it is odd or even\"))\n",
    "if num%2==0:\n",
    " print(\"number is even\")\n",
    "else:\n",
    " print(\"number is odd\")"
   ]
  },
  {
   "cell_type": "code",
   "execution_count": 11,
   "metadata": {},
   "outputs": [
    {
     "name": "stdout",
     "output_type": "stream",
     "text": [
      "length of the list is 11\n"
     ]
    }
   ],
   "source": [
    "a = [1, 1, 2, 3, 5, 8, 13, 21, 34, 55, 89]\n",
    "print(\"length of the list is\", len(a))"
   ]
  },
  {
   "cell_type": "code",
   "execution_count": 12,
   "metadata": {},
   "outputs": [
    {
     "name": "stdout",
     "output_type": "stream",
     "text": [
      "length of the list is 232\n"
     ]
    }
   ],
   "source": [
    "a = [1, 1, 2, 3, 5, 8, 13, 21, 34, 55, 89]\n",
    "print(\"length of the list is\", sum(a))"
   ]
  },
  {
   "cell_type": "code",
   "execution_count": 13,
   "metadata": {},
   "outputs": [
    {
     "name": "stdout",
     "output_type": "stream",
     "text": [
      "length of the list is 89\n"
     ]
    }
   ],
   "source": [
    "a = [1, 1, 2, 3, 5, 8, 13, 21, 34, 55, 89]\n",
    "print(\"length of the list is\", max(a))"
   ]
  },
  {
   "cell_type": "code",
   "execution_count": 20,
   "metadata": {},
   "outputs": [
    {
     "name": "stdout",
     "output_type": "stream",
     "text": [
      "[1, 1, 2, 3]\n"
     ]
    }
   ],
   "source": [
    "a = [1, 1, 2, 3, 5, 8, 13, 21, 34, 55, 89]\n",
    "new = []\n",
    "\n",
    "for item in a:\n",
    "  \n",
    " if item < 5:\n",
    "  new.append(item)\n",
    "print(new)"
   ]
  },
  {
   "cell_type": "code",
   "execution_count": null,
   "metadata": {},
   "outputs": [],
   "source": []
  }
 ],
 "metadata": {
  "kernelspec": {
   "display_name": "Python 3",
   "language": "python",
   "name": "python3"
  },
  "language_info": {
   "codemirror_mode": {
    "name": "ipython",
    "version": 3
   },
   "file_extension": ".py",
   "mimetype": "text/x-python",
   "name": "python",
   "nbconvert_exporter": "python",
   "pygments_lexer": "ipython3",
   "version": "3.7.4"
  }
 },
 "nbformat": 4,
 "nbformat_minor": 2
}
